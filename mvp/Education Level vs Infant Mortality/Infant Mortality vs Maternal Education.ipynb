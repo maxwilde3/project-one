{
 "cells": [
  {
   "cell_type": "markdown",
   "metadata": {},
   "source": [
    "# Infant Mortality vs Maternal Education Level\n",
    "Last edited 24 March 2020 by MC"
   ]
  },
  {
   "cell_type": "markdown",
   "metadata": {},
   "source": [
    "## 1. Import Dependencies"
   ]
  },
  {
   "cell_type": "code",
   "execution_count": 109,
   "metadata": {},
   "outputs": [],
   "source": [
    "import pandas as pd\n",
    "import numpy as np\n",
    "import matplotlib.pyplot as plt\n",
    "import scipy.stats as st"
   ]
  },
  {
   "cell_type": "markdown",
   "metadata": {},
   "source": [
    "## 2. Import Data\n",
    "\n",
    "### Mother's Education Code Key: \n",
    "[1 = 8th Grade or less]\n",
    "[2 = 9th through 12th grade with no diploma]\n",
    "[3 = High School Graduate or GED Completed] \n",
    "[4 = Some college credit, but not a degree] \n",
    "[5 = Associate Degree] \n",
    "[6 = Bachelor's Degree] \n",
    "[7 = Master's Degree] \n",
    "[8 = Doctorate or Professional Degree]\n"
   ]
  },
  {
   "cell_type": "code",
   "execution_count": 4,
   "metadata": {},
   "outputs": [
    {
     "data": {
      "text/html": [
       "<div>\n",
       "<style scoped>\n",
       "    .dataframe tbody tr th:only-of-type {\n",
       "        vertical-align: middle;\n",
       "    }\n",
       "\n",
       "    .dataframe tbody tr th {\n",
       "        vertical-align: top;\n",
       "    }\n",
       "\n",
       "    .dataframe thead th {\n",
       "        text-align: right;\n",
       "    }\n",
       "</style>\n",
       "<table border=\"1\" class=\"dataframe\">\n",
       "  <thead>\n",
       "    <tr style=\"text-align: right;\">\n",
       "      <th></th>\n",
       "      <th>Unnamed: 0</th>\n",
       "      <th>Mother's Education Code</th>\n",
       "      <th>Deaths</th>\n",
       "      <th>Births</th>\n",
       "      <th>Death Rate</th>\n",
       "    </tr>\n",
       "  </thead>\n",
       "  <tbody>\n",
       "    <tr>\n",
       "      <td>0</td>\n",
       "      <td>0</td>\n",
       "      <td>1</td>\n",
       "      <td>1</td>\n",
       "      <td>138</td>\n",
       "      <td>7.25 (Unreliable)</td>\n",
       "    </tr>\n",
       "    <tr>\n",
       "      <td>1</td>\n",
       "      <td>1</td>\n",
       "      <td>2</td>\n",
       "      <td>1</td>\n",
       "      <td>91</td>\n",
       "      <td>10.99 (Unreliable)</td>\n",
       "    </tr>\n",
       "    <tr>\n",
       "      <td>2</td>\n",
       "      <td>2</td>\n",
       "      <td>Exc</td>\n",
       "      <td>1</td>\n",
       "      <td>88</td>\n",
       "      <td>11.36 (Unreliable)</td>\n",
       "    </tr>\n",
       "    <tr>\n",
       "      <td>3</td>\n",
       "      <td>3</td>\n",
       "      <td>NaN</td>\n",
       "      <td>3</td>\n",
       "      <td>344</td>\n",
       "      <td>8.72 (Unreliable)</td>\n",
       "    </tr>\n",
       "    <tr>\n",
       "      <td>4</td>\n",
       "      <td>4</td>\n",
       "      <td>1</td>\n",
       "      <td>112</td>\n",
       "      <td>17473</td>\n",
       "      <td>6.41</td>\n",
       "    </tr>\n",
       "    <tr>\n",
       "      <td>...</td>\n",
       "      <td>...</td>\n",
       "      <td>...</td>\n",
       "      <td>...</td>\n",
       "      <td>...</td>\n",
       "      <td>...</td>\n",
       "    </tr>\n",
       "    <tr>\n",
       "      <td>241</td>\n",
       "      <td>241</td>\n",
       "      <td>6</td>\n",
       "      <td>1</td>\n",
       "      <td>38</td>\n",
       "      <td>26.32 (Unreliable)</td>\n",
       "    </tr>\n",
       "    <tr>\n",
       "      <td>242</td>\n",
       "      <td>242</td>\n",
       "      <td>Unk</td>\n",
       "      <td>2</td>\n",
       "      <td>130</td>\n",
       "      <td>15.38 (Unreliable)</td>\n",
       "    </tr>\n",
       "    <tr>\n",
       "      <td>243</td>\n",
       "      <td>243</td>\n",
       "      <td>NaN</td>\n",
       "      <td>5</td>\n",
       "      <td>241</td>\n",
       "      <td>20.75 (Unreliable)</td>\n",
       "    </tr>\n",
       "    <tr>\n",
       "      <td>244</td>\n",
       "      <td>244</td>\n",
       "      <td>NaN</td>\n",
       "      <td>1758</td>\n",
       "      <td>471606</td>\n",
       "      <td>3.73</td>\n",
       "    </tr>\n",
       "    <tr>\n",
       "      <td>245</td>\n",
       "      <td>245</td>\n",
       "      <td>NaN</td>\n",
       "      <td>271475</td>\n",
       "      <td>44300570</td>\n",
       "      <td>6.13</td>\n",
       "    </tr>\n",
       "  </tbody>\n",
       "</table>\n",
       "<p>246 rows × 5 columns</p>\n",
       "</div>"
      ],
      "text/plain": [
       "     Unnamed: 0 Mother's Education Code  Deaths    Births          Death Rate\n",
       "0             0                       1       1       138   7.25 (Unreliable)\n",
       "1             1                       2       1        91  10.99 (Unreliable)\n",
       "2             2                     Exc       1        88  11.36 (Unreliable)\n",
       "3             3                     NaN       3       344   8.72 (Unreliable)\n",
       "4             4                       1     112     17473                6.41\n",
       "..          ...                     ...     ...       ...                 ...\n",
       "241         241                       6       1        38  26.32 (Unreliable)\n",
       "242         242                     Unk       2       130  15.38 (Unreliable)\n",
       "243         243                     NaN       5       241  20.75 (Unreliable)\n",
       "244         244                     NaN    1758    471606                3.73\n",
       "245         245                     NaN  271475  44300570                6.13\n",
       "\n",
       "[246 rows x 5 columns]"
      ]
     },
     "execution_count": 4,
     "metadata": {},
     "output_type": "execute_result"
    }
   ],
   "source": [
    "data_xls = pd.read_excel('Infant_deaths.xls','Sheet1', index_col=None)\n",
    "data_xls.to_csv('csvfile.csv', encoding='utf-8')\n",
    "file = \"csvfile.csv\"\n",
    "df = pd.read_csv(file)\n",
    "df"
   ]
  },
  {
   "cell_type": "markdown",
   "metadata": {},
   "source": [
    "## 3. Clean Data"
   ]
  },
  {
   "cell_type": "code",
   "execution_count": 30,
   "metadata": {},
   "outputs": [
    {
     "name": "stderr",
     "output_type": "stream",
     "text": [
      "/Users/monicachen/opt/anaconda3/lib/python3.7/site-packages/ipykernel_launcher.py:9: SettingWithCopyWarning: \n",
      "A value is trying to be set on a copy of a slice from a DataFrame.\n",
      "Try using .loc[row_indexer,col_indexer] = value instead\n",
      "\n",
      "See the caveats in the documentation: http://pandas.pydata.org/pandas-docs/stable/user_guide/indexing.html#returning-a-view-versus-a-copy\n",
      "  if __name__ == '__main__':\n"
     ]
    }
   ],
   "source": [
    "df.drop(columns='Unnamed: 0')\n",
    "df_unk = df.replace('Unk',np.nan,regex=True)\n",
    "df_ = df_unk.replace(\"Exc\",np.nan,regex=True)\n",
    "df00 = df_.rename(columns = {\"Mother's Education Code\":\"Education Code\"})\n",
    "df0 = df00.drop(columns = 'Unnamed: 0')\n",
    "#Drop NaN columns\n",
    "df_ = df0.dropna()\n",
    "df_\n",
    "df_[\"Education Code\"] = pd.to_numeric(df_[\"Education Code\"])"
   ]
  },
  {
   "cell_type": "code",
   "execution_count": 102,
   "metadata": {},
   "outputs": [
    {
     "data": {
      "text/plain": [
       "array([1, 2, 3, 4, 5, 6, 7, 8])"
      ]
     },
     "execution_count": 102,
     "metadata": {},
     "output_type": "execute_result"
    }
   ],
   "source": [
    "df_.dtypes\n",
    "df_[\"Education Code\"].unique()"
   ]
  },
  {
   "cell_type": "markdown",
   "metadata": {},
   "source": [
    "## 4. Separate by Mother's Education Code"
   ]
  },
  {
   "cell_type": "code",
   "execution_count": 58,
   "metadata": {},
   "outputs": [],
   "source": [
    "group1_df = df_[df_[\"Education Code\"] == 1]\n",
    "group2_df = df_[df_[\"Education Code\"] == 2]\n",
    "group3_df = df_[df_[\"Education Code\"] == 3]\n",
    "group4_df = df_[df_[\"Education Code\"] == 4]\n",
    "group5_df = df_[df_[\"Education Code\"] == 5]\n",
    "group6_df = df_[df_[\"Education Code\"] == 6]\n",
    "group7_df = df_[df_[\"Education Code\"] == 7]\n",
    "group8_df = df_[df_[\"Education Code\"] == 8]"
   ]
  },
  {
   "cell_type": "markdown",
   "metadata": {},
   "source": [
    "## 5. Analysis by Education Code"
   ]
  },
  {
   "cell_type": "markdown",
   "metadata": {},
   "source": [
    "### Group 1: 8th Grade or less"
   ]
  },
  {
   "cell_type": "code",
   "execution_count": 97,
   "metadata": {},
   "outputs": [
    {
     "name": "stderr",
     "output_type": "stream",
     "text": [
      "/Users/monicachen/opt/anaconda3/lib/python3.7/site-packages/ipykernel_launcher.py:2: SettingWithCopyWarning: \n",
      "A value is trying to be set on a copy of a slice from a DataFrame.\n",
      "Try using .loc[row_indexer,col_indexer] = value instead\n",
      "\n",
      "See the caveats in the documentation: http://pandas.pydata.org/pandas-docs/stable/user_guide/indexing.html#returning-a-view-versus-a-copy\n",
      "  \n"
     ]
    },
    {
     "data": {
      "text/plain": [
       "0.79"
      ]
     },
     "execution_count": 97,
     "metadata": {},
     "output_type": "execute_result"
    }
   ],
   "source": [
    "rate_column1 = round(((group1_df['Deaths'] )/ group1_df['Births'])*100,2)\n",
    "group1_df[\"Mortality Rate\"] = rate_column1\n",
    "group1_avg = round(group1_df[\"Mortality Rate\"].mean(),2)\n",
    "group1_avg"
   ]
  },
  {
   "cell_type": "markdown",
   "metadata": {},
   "source": [
    "### Group 2: 9th through 12th grade with no diploma"
   ]
  },
  {
   "cell_type": "code",
   "execution_count": 98,
   "metadata": {},
   "outputs": [
    {
     "name": "stderr",
     "output_type": "stream",
     "text": [
      "/Users/monicachen/opt/anaconda3/lib/python3.7/site-packages/ipykernel_launcher.py:3: SettingWithCopyWarning: \n",
      "A value is trying to be set on a copy of a slice from a DataFrame.\n",
      "Try using .loc[row_indexer,col_indexer] = value instead\n",
      "\n",
      "See the caveats in the documentation: http://pandas.pydata.org/pandas-docs/stable/user_guide/indexing.html#returning-a-view-versus-a-copy\n",
      "  This is separate from the ipykernel package so we can avoid doing imports until\n"
     ]
    },
    {
     "data": {
      "text/plain": [
       "0.9"
      ]
     },
     "execution_count": 98,
     "metadata": {},
     "output_type": "execute_result"
    }
   ],
   "source": [
    "#Group 2\n",
    "rate_column2 = round((group2_df['Deaths'] / group2_df['Births']) * 100,2)\n",
    "group2_df[\"Mortality Rate\"] = rate_column2\n",
    "group2_avg = round(group2_df[\"Mortality Rate\"].mean(),2)\n",
    "group2_avg"
   ]
  },
  {
   "cell_type": "markdown",
   "metadata": {},
   "source": [
    "### Group 3: High School Graduate or GED Completed"
   ]
  },
  {
   "cell_type": "code",
   "execution_count": 99,
   "metadata": {},
   "outputs": [
    {
     "name": "stderr",
     "output_type": "stream",
     "text": [
      "/Users/monicachen/opt/anaconda3/lib/python3.7/site-packages/ipykernel_launcher.py:2: SettingWithCopyWarning: \n",
      "A value is trying to be set on a copy of a slice from a DataFrame.\n",
      "Try using .loc[row_indexer,col_indexer] = value instead\n",
      "\n",
      "See the caveats in the documentation: http://pandas.pydata.org/pandas-docs/stable/user_guide/indexing.html#returning-a-view-versus-a-copy\n",
      "  \n"
     ]
    },
    {
     "data": {
      "text/plain": [
       "0.77"
      ]
     },
     "execution_count": 99,
     "metadata": {},
     "output_type": "execute_result"
    }
   ],
   "source": [
    "rate_column3 = round(((group3_df['Deaths'] )/ group3_df['Births'])*100,2)\n",
    "group3_df[\"Mortality Rate\"] = rate_column3\n",
    "group3_avg = round(group3_df[\"Mortality Rate\"].mean(),2)\n",
    "group3_avg"
   ]
  },
  {
   "cell_type": "markdown",
   "metadata": {},
   "source": [
    "### Group 4: Some college credit, but not a degree"
   ]
  },
  {
   "cell_type": "code",
   "execution_count": 90,
   "metadata": {},
   "outputs": [
    {
     "name": "stderr",
     "output_type": "stream",
     "text": [
      "/Users/monicachen/opt/anaconda3/lib/python3.7/site-packages/ipykernel_launcher.py:3: SettingWithCopyWarning: \n",
      "A value is trying to be set on a copy of a slice from a DataFrame.\n",
      "Try using .loc[row_indexer,col_indexer] = value instead\n",
      "\n",
      "See the caveats in the documentation: http://pandas.pydata.org/pandas-docs/stable/user_guide/indexing.html#returning-a-view-versus-a-copy\n",
      "  This is separate from the ipykernel package so we can avoid doing imports until\n"
     ]
    },
    {
     "data": {
      "text/plain": [
       "1.28"
      ]
     },
     "execution_count": 90,
     "metadata": {},
     "output_type": "execute_result"
    }
   ],
   "source": [
    "#Group 4\n",
    "rate_column4 = round(((group4_df['Deaths'] )/ group4_df['Births'])*100,2)\n",
    "group4_df[\"Mortality Rate\"] = rate_column4\n",
    "group4_avg = round(group4_df[\"Mortality Rate\"].mean(),2)\n",
    "group4_avg"
   ]
  },
  {
   "cell_type": "markdown",
   "metadata": {},
   "source": [
    "### Group 5: Associate Degree"
   ]
  },
  {
   "cell_type": "code",
   "execution_count": 89,
   "metadata": {},
   "outputs": [
    {
     "name": "stderr",
     "output_type": "stream",
     "text": [
      "/Users/monicachen/opt/anaconda3/lib/python3.7/site-packages/ipykernel_launcher.py:3: SettingWithCopyWarning: \n",
      "A value is trying to be set on a copy of a slice from a DataFrame.\n",
      "Try using .loc[row_indexer,col_indexer] = value instead\n",
      "\n",
      "See the caveats in the documentation: http://pandas.pydata.org/pandas-docs/stable/user_guide/indexing.html#returning-a-view-versus-a-copy\n",
      "  This is separate from the ipykernel package so we can avoid doing imports until\n"
     ]
    },
    {
     "data": {
      "text/plain": [
       "0.68"
      ]
     },
     "execution_count": 89,
     "metadata": {},
     "output_type": "execute_result"
    }
   ],
   "source": [
    "#Group 5\n",
    "rate_column5 = round(((group5_df['Deaths'] )/ group5_df['Births'])*100,2)\n",
    "group5_df[\"Mortality Rate\"] = rate_column5\n",
    "group5_avg = round(group5_df[\"Mortality Rate\"].mean(),2)\n",
    "group5_avg"
   ]
  },
  {
   "cell_type": "markdown",
   "metadata": {},
   "source": [
    "### Group 6: Bachelor's Degree"
   ]
  },
  {
   "cell_type": "code",
   "execution_count": 101,
   "metadata": {},
   "outputs": [
    {
     "name": "stderr",
     "output_type": "stream",
     "text": [
      "/Users/monicachen/opt/anaconda3/lib/python3.7/site-packages/ipykernel_launcher.py:3: SettingWithCopyWarning: \n",
      "A value is trying to be set on a copy of a slice from a DataFrame.\n",
      "Try using .loc[row_indexer,col_indexer] = value instead\n",
      "\n",
      "See the caveats in the documentation: http://pandas.pydata.org/pandas-docs/stable/user_guide/indexing.html#returning-a-view-versus-a-copy\n",
      "  This is separate from the ipykernel package so we can avoid doing imports until\n"
     ]
    },
    {
     "data": {
      "text/plain": [
       "0.6"
      ]
     },
     "execution_count": 101,
     "metadata": {},
     "output_type": "execute_result"
    }
   ],
   "source": [
    "#Group 6\n",
    "rate_column6 = round(((group6_df['Deaths'] )/ group6_df['Births'])*100,2)\n",
    "group6_df[\"Mortality Rate\"] = rate_column6\n",
    "group6_avg = round(group6_df[\"Mortality Rate\"].mean(),2)\n",
    "group6_avg"
   ]
  },
  {
   "cell_type": "markdown",
   "metadata": {},
   "source": [
    "### Group 7: Master's Degree"
   ]
  },
  {
   "cell_type": "code",
   "execution_count": 86,
   "metadata": {},
   "outputs": [
    {
     "name": "stderr",
     "output_type": "stream",
     "text": [
      "/Users/monicachen/opt/anaconda3/lib/python3.7/site-packages/ipykernel_launcher.py:3: SettingWithCopyWarning: \n",
      "A value is trying to be set on a copy of a slice from a DataFrame.\n",
      "Try using .loc[row_indexer,col_indexer] = value instead\n",
      "\n",
      "See the caveats in the documentation: http://pandas.pydata.org/pandas-docs/stable/user_guide/indexing.html#returning-a-view-versus-a-copy\n",
      "  This is separate from the ipykernel package so we can avoid doing imports until\n"
     ]
    },
    {
     "data": {
      "text/plain": [
       "0.53"
      ]
     },
     "execution_count": 86,
     "metadata": {},
     "output_type": "execute_result"
    }
   ],
   "source": [
    "#Group 7\n",
    "rate_column7 = round(((group7_df['Deaths'] )/ group7_df['Births'])*100,2)\n",
    "group7_df[\"Mortality Rate\"] = rate_column7\n",
    "group7_avg = round(group7_df[\"Mortality Rate\"].mean(),2)\n",
    "group7_avg"
   ]
  },
  {
   "cell_type": "markdown",
   "metadata": {},
   "source": [
    "### Group 8: Doctorate or Professional Degree"
   ]
  },
  {
   "cell_type": "code",
   "execution_count": 100,
   "metadata": {},
   "outputs": [
    {
     "name": "stderr",
     "output_type": "stream",
     "text": [
      "/Users/monicachen/opt/anaconda3/lib/python3.7/site-packages/ipykernel_launcher.py:3: SettingWithCopyWarning: \n",
      "A value is trying to be set on a copy of a slice from a DataFrame.\n",
      "Try using .loc[row_indexer,col_indexer] = value instead\n",
      "\n",
      "See the caveats in the documentation: http://pandas.pydata.org/pandas-docs/stable/user_guide/indexing.html#returning-a-view-versus-a-copy\n",
      "  This is separate from the ipykernel package so we can avoid doing imports until\n"
     ]
    },
    {
     "data": {
      "text/plain": [
       "0.51"
      ]
     },
     "execution_count": 100,
     "metadata": {},
     "output_type": "execute_result"
    }
   ],
   "source": [
    "#Group 7\n",
    "rate_column8 = round(((group8_df['Deaths'] )/ group8_df['Births'])*100,2)\n",
    "group8_df[\"Mortality Rate\"] = rate_column8\n",
    "group8_avg = round(group8_df[\"Mortality Rate\"].mean(),2)\n",
    "group8_avg"
   ]
  },
  {
   "cell_type": "code",
   "execution_count": 110,
   "metadata": {},
   "outputs": [
    {
     "data": {
      "text/html": [
       "<div>\n",
       "<style scoped>\n",
       "    .dataframe tbody tr th:only-of-type {\n",
       "        vertical-align: middle;\n",
       "    }\n",
       "\n",
       "    .dataframe tbody tr th {\n",
       "        vertical-align: top;\n",
       "    }\n",
       "\n",
       "    .dataframe thead th {\n",
       "        text-align: right;\n",
       "    }\n",
       "</style>\n",
       "<table border=\"1\" class=\"dataframe\">\n",
       "  <thead>\n",
       "    <tr style=\"text-align: right;\">\n",
       "      <th></th>\n",
       "      <th>Education Level</th>\n",
       "      <th>Mortality Rate</th>\n",
       "    </tr>\n",
       "  </thead>\n",
       "  <tbody>\n",
       "    <tr>\n",
       "      <td>0</td>\n",
       "      <td>8th Grade or less</td>\n",
       "      <td>0.79</td>\n",
       "    </tr>\n",
       "    <tr>\n",
       "      <td>1</td>\n",
       "      <td>9th through 12th grade with no diploma</td>\n",
       "      <td>0.90</td>\n",
       "    </tr>\n",
       "    <tr>\n",
       "      <td>2</td>\n",
       "      <td>High School Graduate or GED Completed</td>\n",
       "      <td>0.77</td>\n",
       "    </tr>\n",
       "    <tr>\n",
       "      <td>3</td>\n",
       "      <td>Some college credit, but not a degree</td>\n",
       "      <td>1.28</td>\n",
       "    </tr>\n",
       "    <tr>\n",
       "      <td>4</td>\n",
       "      <td>Associate Degree</td>\n",
       "      <td>0.68</td>\n",
       "    </tr>\n",
       "    <tr>\n",
       "      <td>5</td>\n",
       "      <td>Bachelor Degree</td>\n",
       "      <td>0.60</td>\n",
       "    </tr>\n",
       "    <tr>\n",
       "      <td>6</td>\n",
       "      <td>Masters Degree</td>\n",
       "      <td>0.53</td>\n",
       "    </tr>\n",
       "    <tr>\n",
       "      <td>7</td>\n",
       "      <td>Doctorate or Professional Degree</td>\n",
       "      <td>0.51</td>\n",
       "    </tr>\n",
       "  </tbody>\n",
       "</table>\n",
       "</div>"
      ],
      "text/plain": [
       "                          Education Level  Mortality Rate\n",
       "0                       8th Grade or less            0.79\n",
       "1  9th through 12th grade with no diploma            0.90\n",
       "2   High School Graduate or GED Completed            0.77\n",
       "3   Some college credit, but not a degree            1.28\n",
       "4                        Associate Degree            0.68\n",
       "5                         Bachelor Degree            0.60\n",
       "6                          Masters Degree            0.53\n",
       "7        Doctorate or Professional Degree            0.51"
      ]
     },
     "execution_count": 110,
     "metadata": {},
     "output_type": "execute_result"
    }
   ],
   "source": [
    "data = {'Education Level':  [\"8th Grade or less\", \"9th through 12th grade with no diploma\",\"High School Graduate or GED Completed\",\n",
    "                            \"Some college credit, but not a degree\",\"Associate Degree\",\"Bachelor Degree\",\"Masters Degree\",\n",
    "                            \"Doctorate or Professional Degree\"],\n",
    "        'Mortality Rate': [group1_avg, group2_avg, group3_avg, group4_avg, group5_avg, group6_avg,\n",
    "                               group7_avg,group8_avg]\n",
    "        }\n",
    "compiled_df = pd.DataFrame (data, columns = ['Education Level','Mortality Rate'])\n",
    "compiled_df"
   ]
  },
  {
   "cell_type": "code",
   "execution_count": 122,
   "metadata": {},
   "outputs": [
    {
     "data": {
      "image/png": "[encoded data removed]",
      "text/plain": [
       "<Figure size 432x288 with 1 Axes>"
      ]
     },
     "metadata": {
      "needs_background": "light"
     },
     "output_type": "display_data"
    }
   ],
   "source": [
    "fig = plt.figure()\n",
    "\n",
    "education_level = [\"8th Grade or less\", \"9th through 12th grade with no diploma\",\"High School Graduate or GED Completed\",\n",
    "            \"Some college credit, but not a degree\",\"Associate Degree\",\"Bachelor Degree\",\"Masters Degree\",\n",
    "            \"Doctorate or Professional Degree\"]\n",
    "rate = [group1_avg, group2_avg, group3_avg, group4_avg, group5_avg, group6_avg,group7_avg,group8_avg]\n",
    "x_axis = np.arange(len(education_level))\n",
    "tick_locations = [value for value in x_axis]\n",
    "#Plot bar charts\n",
    "plt.barh(x_axis, rate, align='center', alpha=0.5)\n",
    "#plt.xticks(x_axis, regimens)\n",
    "plt.yticks(tick_locations, education_level, rotation=\"0\")\n",
    "plt.xlabel('Mortality Rate %')\n",
    "plt.title(\"Mother's Education Level vs Mortality Rate\")\n",
    "\n",
    "plt.show()"
   ]
  },
  {
   "cell_type": "code",
   "execution_count": null,
   "metadata": {},
   "outputs": [],
   "source": []
  }
 ],
 "metadata": {
  "kernelspec": {
   "display_name": "Python 3",
   "language": "python",
   "name": "python3"
  },
  "language_info": {
   "codemirror_mode": {
    "name": "ipython",
    "version": 3
   },
   "file_extension": ".py",
   "mimetype": "text/x-python",
   "name": "python",
   "nbconvert_exporter": "python",
   "pygments_lexer": "ipython3",
   "version": "3.7.4"
  }
 },
 "nbformat": 4,
 "nbformat_minor": 2
}
