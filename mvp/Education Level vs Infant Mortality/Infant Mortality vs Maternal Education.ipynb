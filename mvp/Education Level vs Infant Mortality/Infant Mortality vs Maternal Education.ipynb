{
 "cells": [
  {
   "cell_type": "markdown",
   "metadata": {},
   "source": [
    "# Infant Mortality vs Maternal Education Level\n",
    "Last edited 28 March 2020 by MC"
   ]
  },
  {
   "cell_type": "markdown",
   "metadata": {},
   "source": [
    "## 1. Import Dependencies"
   ]
  },
  {
   "cell_type": "code",
   "execution_count": 6,
   "metadata": {},
   "outputs": [],
   "source": [
    "import pandas as pd\n",
    "import numpy as np\n",
    "import matplotlib.pyplot as plt\n",
    "import scipy.stats as st"
   ]
  },
  {
   "cell_type": "markdown",
   "metadata": {},
   "source": [
    "## 2. Import Data\n",
    "\n",
    "### Mother's Education Code Key: \n",
    "[1 = 8th Grade or less]\n",
    "[2 = 9th through 12th grade with no diploma]\n",
    "[3 = High School Graduate or GED Completed] \n",
    "[4 = Some college credit, but not a degree] \n",
    "[5 = Associate Degree] \n",
    "[6 = Bachelor's Degree] \n",
    "[7 = Master's Degree] \n",
    "[8 = Doctorate or Professional Degree]\n"
   ]
  },
  {
   "cell_type": "code",
   "execution_count": 7,
   "metadata": {},
   "outputs": [
    {
     "data": {
      "text/html": [
       "<div>\n",
       "<style scoped>\n",
       "    .dataframe tbody tr th:only-of-type {\n",
       "        vertical-align: middle;\n",
       "    }\n",
       "\n",
       "    .dataframe tbody tr th {\n",
       "        vertical-align: top;\n",
       "    }\n",
       "\n",
       "    .dataframe thead th {\n",
       "        text-align: right;\n",
       "    }\n",
       "</style>\n",
       "<table border=\"1\" class=\"dataframe\">\n",
       "  <thead>\n",
       "    <tr style=\"text-align: right;\">\n",
       "      <th></th>\n",
       "      <th>Unnamed: 0</th>\n",
       "      <th>Mother's Marital Status</th>\n",
       "      <th>Mother's Education Code</th>\n",
       "      <th>Deaths</th>\n",
       "      <th>Births</th>\n",
       "      <th>Death Rate</th>\n",
       "    </tr>\n",
       "  </thead>\n",
       "  <tbody>\n",
       "    <tr>\n",
       "      <td>0</td>\n",
       "      <td>0</td>\n",
       "      <td>Married</td>\n",
       "      <td>1</td>\n",
       "      <td>1</td>\n",
       "      <td>138</td>\n",
       "      <td>7.25 (Unreliable)</td>\n",
       "    </tr>\n",
       "    <tr>\n",
       "      <td>1</td>\n",
       "      <td>1</td>\n",
       "      <td>Married</td>\n",
       "      <td>2</td>\n",
       "      <td>1</td>\n",
       "      <td>91</td>\n",
       "      <td>10.99 (Unreliable)</td>\n",
       "    </tr>\n",
       "    <tr>\n",
       "      <td>2</td>\n",
       "      <td>2</td>\n",
       "      <td>Married</td>\n",
       "      <td>Exc</td>\n",
       "      <td>1</td>\n",
       "      <td>88</td>\n",
       "      <td>11.36 (Unreliable)</td>\n",
       "    </tr>\n",
       "    <tr>\n",
       "      <td>3</td>\n",
       "      <td>3</td>\n",
       "      <td>Married</td>\n",
       "      <td>NaN</td>\n",
       "      <td>3</td>\n",
       "      <td>344</td>\n",
       "      <td>8.72 (Unreliable)</td>\n",
       "    </tr>\n",
       "    <tr>\n",
       "      <td>4</td>\n",
       "      <td>4</td>\n",
       "      <td>Married</td>\n",
       "      <td>1</td>\n",
       "      <td>112</td>\n",
       "      <td>17473</td>\n",
       "      <td>6.41</td>\n",
       "    </tr>\n",
       "    <tr>\n",
       "      <td>...</td>\n",
       "      <td>...</td>\n",
       "      <td>...</td>\n",
       "      <td>...</td>\n",
       "      <td>...</td>\n",
       "      <td>...</td>\n",
       "      <td>...</td>\n",
       "    </tr>\n",
       "    <tr>\n",
       "      <td>241</td>\n",
       "      <td>241</td>\n",
       "      <td>Not Reported</td>\n",
       "      <td>6</td>\n",
       "      <td>1</td>\n",
       "      <td>38</td>\n",
       "      <td>26.32 (Unreliable)</td>\n",
       "    </tr>\n",
       "    <tr>\n",
       "      <td>242</td>\n",
       "      <td>242</td>\n",
       "      <td>Not Reported</td>\n",
       "      <td>Unk</td>\n",
       "      <td>2</td>\n",
       "      <td>130</td>\n",
       "      <td>15.38 (Unreliable)</td>\n",
       "    </tr>\n",
       "    <tr>\n",
       "      <td>243</td>\n",
       "      <td>243</td>\n",
       "      <td>Not Reported</td>\n",
       "      <td>NaN</td>\n",
       "      <td>5</td>\n",
       "      <td>241</td>\n",
       "      <td>20.75 (Unreliable)</td>\n",
       "    </tr>\n",
       "    <tr>\n",
       "      <td>244</td>\n",
       "      <td>244</td>\n",
       "      <td>Not Reported</td>\n",
       "      <td>NaN</td>\n",
       "      <td>1758</td>\n",
       "      <td>471606</td>\n",
       "      <td>3.73</td>\n",
       "    </tr>\n",
       "    <tr>\n",
       "      <td>245</td>\n",
       "      <td>245</td>\n",
       "      <td>NaN</td>\n",
       "      <td>NaN</td>\n",
       "      <td>271475</td>\n",
       "      <td>44300570</td>\n",
       "      <td>6.13</td>\n",
       "    </tr>\n",
       "  </tbody>\n",
       "</table>\n",
       "<p>246 rows × 6 columns</p>\n",
       "</div>"
      ],
      "text/plain": [
       "     Unnamed: 0 Mother's Marital Status Mother's Education Code  Deaths  \\\n",
       "0             0                 Married                       1       1   \n",
       "1             1                 Married                       2       1   \n",
       "2             2                 Married                     Exc       1   \n",
       "3             3                 Married                     NaN       3   \n",
       "4             4                 Married                       1     112   \n",
       "..          ...                     ...                     ...     ...   \n",
       "241         241            Not Reported                       6       1   \n",
       "242         242            Not Reported                     Unk       2   \n",
       "243         243            Not Reported                     NaN       5   \n",
       "244         244            Not Reported                     NaN    1758   \n",
       "245         245                     NaN                     NaN  271475   \n",
       "\n",
       "       Births          Death Rate  \n",
       "0         138   7.25 (Unreliable)  \n",
       "1          91  10.99 (Unreliable)  \n",
       "2          88  11.36 (Unreliable)  \n",
       "3         344   8.72 (Unreliable)  \n",
       "4       17473                6.41  \n",
       "..        ...                 ...  \n",
       "241        38  26.32 (Unreliable)  \n",
       "242       130  15.38 (Unreliable)  \n",
       "243       241  20.75 (Unreliable)  \n",
       "244    471606                3.73  \n",
       "245  44300570                6.13  \n",
       "\n",
       "[246 rows x 6 columns]"
      ]
     },
     "execution_count": 7,
     "metadata": {},
     "output_type": "execute_result"
    }
   ],
   "source": [
    "data_xls = pd.read_excel('Infant_deaths.xls','Sheet1', index_col=None)\n",
    "data_xls.to_csv('csvfile.csv', encoding='utf-8')\n",
    "file = \"csvfile.csv\"\n",
    "df = pd.read_csv(file)\n",
    "df"
   ]
  },
  {
   "cell_type": "markdown",
   "metadata": {},
   "source": [
    "## 3. Clean Data"
   ]
  },
  {
   "cell_type": "code",
   "execution_count": 8,
   "metadata": {},
   "outputs": [
    {
     "name": "stderr",
     "output_type": "stream",
     "text": [
      "/Users/monicachen/opt/anaconda3/lib/python3.7/site-packages/ipykernel_launcher.py:9: SettingWithCopyWarning: \n",
      "A value is trying to be set on a copy of a slice from a DataFrame.\n",
      "Try using .loc[row_indexer,col_indexer] = value instead\n",
      "\n",
      "See the caveats in the documentation: http://pandas.pydata.org/pandas-docs/stable/user_guide/indexing.html#returning-a-view-versus-a-copy\n",
      "  if __name__ == '__main__':\n"
     ]
    }
   ],
   "source": [
    "df.drop(columns='Unnamed: 0')\n",
    "df_unk = df.replace('Unk',np.nan,regex=True)\n",
    "df1 = df_unk.replace(\"Exc\",np.nan,regex=True)\n",
    "df00 = df1.rename(columns = {\"Mother's Education Code\":\"Education Code\"})\n",
    "df0 = df00.drop(columns = 'Unnamed: 0')\n",
    "#Drop NaN columns\n",
    "df_ = df0.dropna()\n",
    "df_\n",
    "df_[\"Education Code\"] = pd.to_numeric(df_[\"Education Code\"])"
   ]
  },
  {
   "cell_type": "code",
   "execution_count": 9,
   "metadata": {},
   "outputs": [
    {
     "data": {
      "text/plain": [
       "array([1, 2, 3, 4, 5, 6, 7, 8])"
      ]
     },
     "execution_count": 9,
     "metadata": {},
     "output_type": "execute_result"
    }
   ],
   "source": [
    "df_.dtypes\n",
    "df_[\"Education Code\"].unique()"
   ]
  },
  {
   "cell_type": "markdown",
   "metadata": {},
   "source": [
    "## 4. Separate by Mother's Education Code"
   ]
  },
  {
   "cell_type": "code",
   "execution_count": 10,
   "metadata": {},
   "outputs": [],
   "source": [
    "group1_df = df_[df_[\"Education Code\"] == 1]\n",
    "group2_df = df_[df_[\"Education Code\"] == 2]\n",
    "group3_df = df_[df_[\"Education Code\"] == 3]\n",
    "group4_df = df_[df_[\"Education Code\"] == 4]\n",
    "group5_df = df_[df_[\"Education Code\"] == 5]\n",
    "group6_df = df_[df_[\"Education Code\"] == 6]\n",
    "group7_df = df_[df_[\"Education Code\"] == 7]\n",
    "group8_df = df_[df_[\"Education Code\"] == 8]"
   ]
  },
  {
   "cell_type": "markdown",
   "metadata": {},
   "source": [
    "## 5. Analysis by Education Code"
   ]
  },
  {
   "cell_type": "markdown",
   "metadata": {},
   "source": [
    "### Group 1: 8th Grade or less"
   ]
  },
  {
   "cell_type": "code",
   "execution_count": 11,
   "metadata": {},
   "outputs": [
    {
     "name": "stderr",
     "output_type": "stream",
     "text": [
      "/Users/monicachen/opt/anaconda3/lib/python3.7/site-packages/ipykernel_launcher.py:2: SettingWithCopyWarning: \n",
      "A value is trying to be set on a copy of a slice from a DataFrame.\n",
      "Try using .loc[row_indexer,col_indexer] = value instead\n",
      "\n",
      "See the caveats in the documentation: http://pandas.pydata.org/pandas-docs/stable/user_guide/indexing.html#returning-a-view-versus-a-copy\n",
      "  \n"
     ]
    },
    {
     "data": {
      "text/plain": [
       "0.79"
      ]
     },
     "execution_count": 11,
     "metadata": {},
     "output_type": "execute_result"
    }
   ],
   "source": [
    "rate_column1 = round(((group1_df['Deaths'] )/ group1_df['Births'])*100,2)\n",
    "group1_df[\"Mortality Rate\"] = rate_column1\n",
    "group1_avg = round(group1_df[\"Mortality Rate\"].mean(),2)\n",
    "group1_avg"
   ]
  },
  {
   "cell_type": "markdown",
   "metadata": {},
   "source": [
    "### Group 2: 9th through 12th grade with no diploma"
   ]
  },
  {
   "cell_type": "code",
   "execution_count": 12,
   "metadata": {},
   "outputs": [
    {
     "name": "stderr",
     "output_type": "stream",
     "text": [
      "/Users/monicachen/opt/anaconda3/lib/python3.7/site-packages/ipykernel_launcher.py:3: SettingWithCopyWarning: \n",
      "A value is trying to be set on a copy of a slice from a DataFrame.\n",
      "Try using .loc[row_indexer,col_indexer] = value instead\n",
      "\n",
      "See the caveats in the documentation: http://pandas.pydata.org/pandas-docs/stable/user_guide/indexing.html#returning-a-view-versus-a-copy\n",
      "  This is separate from the ipykernel package so we can avoid doing imports until\n"
     ]
    },
    {
     "data": {
      "text/plain": [
       "0.9"
      ]
     },
     "execution_count": 12,
     "metadata": {},
     "output_type": "execute_result"
    }
   ],
   "source": [
    "#Group 2\n",
    "rate_column2 = round((group2_df['Deaths'] / group2_df['Births']) * 100,2)\n",
    "group2_df[\"Mortality Rate\"] = rate_column2\n",
    "group2_avg = round(group2_df[\"Mortality Rate\"].mean(),2)\n",
    "group2_avg"
   ]
  },
  {
   "cell_type": "markdown",
   "metadata": {},
   "source": [
    "### Group 3: High School Graduate or GED Completed"
   ]
  },
  {
   "cell_type": "code",
   "execution_count": 13,
   "metadata": {},
   "outputs": [
    {
     "name": "stderr",
     "output_type": "stream",
     "text": [
      "/Users/monicachen/opt/anaconda3/lib/python3.7/site-packages/ipykernel_launcher.py:2: SettingWithCopyWarning: \n",
      "A value is trying to be set on a copy of a slice from a DataFrame.\n",
      "Try using .loc[row_indexer,col_indexer] = value instead\n",
      "\n",
      "See the caveats in the documentation: http://pandas.pydata.org/pandas-docs/stable/user_guide/indexing.html#returning-a-view-versus-a-copy\n",
      "  \n"
     ]
    },
    {
     "data": {
      "text/plain": [
       "0.77"
      ]
     },
     "execution_count": 13,
     "metadata": {},
     "output_type": "execute_result"
    }
   ],
   "source": [
    "rate_column3 = round(((group3_df['Deaths'] )/ group3_df['Births'])*100,2)\n",
    "group3_df[\"Mortality Rate\"] = rate_column3\n",
    "group3_avg = round(group3_df[\"Mortality Rate\"].mean(),2)\n",
    "group3_avg"
   ]
  },
  {
   "cell_type": "markdown",
   "metadata": {},
   "source": [
    "### Group 4: Some college credit, but not a degree"
   ]
  },
  {
   "cell_type": "code",
   "execution_count": 14,
   "metadata": {},
   "outputs": [
    {
     "name": "stderr",
     "output_type": "stream",
     "text": [
      "/Users/monicachen/opt/anaconda3/lib/python3.7/site-packages/ipykernel_launcher.py:3: SettingWithCopyWarning: \n",
      "A value is trying to be set on a copy of a slice from a DataFrame.\n",
      "Try using .loc[row_indexer,col_indexer] = value instead\n",
      "\n",
      "See the caveats in the documentation: http://pandas.pydata.org/pandas-docs/stable/user_guide/indexing.html#returning-a-view-versus-a-copy\n",
      "  This is separate from the ipykernel package so we can avoid doing imports until\n"
     ]
    },
    {
     "data": {
      "text/plain": [
       "1.28"
      ]
     },
     "execution_count": 14,
     "metadata": {},
     "output_type": "execute_result"
    }
   ],
   "source": [
    "#Group 4\n",
    "rate_column4 = round(((group4_df['Deaths'] )/ group4_df['Births'])*100,2)\n",
    "group4_df[\"Mortality Rate\"] = rate_column4\n",
    "group4_avg = round(group4_df[\"Mortality Rate\"].mean(),2)\n",
    "group4_avg"
   ]
  },
  {
   "cell_type": "markdown",
   "metadata": {},
   "source": [
    "### Group 5: Associate Degree"
   ]
  },
  {
   "cell_type": "code",
   "execution_count": 15,
   "metadata": {},
   "outputs": [
    {
     "name": "stderr",
     "output_type": "stream",
     "text": [
      "/Users/monicachen/opt/anaconda3/lib/python3.7/site-packages/ipykernel_launcher.py:3: SettingWithCopyWarning: \n",
      "A value is trying to be set on a copy of a slice from a DataFrame.\n",
      "Try using .loc[row_indexer,col_indexer] = value instead\n",
      "\n",
      "See the caveats in the documentation: http://pandas.pydata.org/pandas-docs/stable/user_guide/indexing.html#returning-a-view-versus-a-copy\n",
      "  This is separate from the ipykernel package so we can avoid doing imports until\n"
     ]
    },
    {
     "data": {
      "text/plain": [
       "0.68"
      ]
     },
     "execution_count": 15,
     "metadata": {},
     "output_type": "execute_result"
    }
   ],
   "source": [
    "#Group 5\n",
    "rate_column5 = round(((group5_df['Deaths'] )/ group5_df['Births'])*100,2)\n",
    "group5_df[\"Mortality Rate\"] = rate_column5\n",
    "group5_avg = round(group5_df[\"Mortality Rate\"].mean(),2)\n",
    "group5_avg"
   ]
  },
  {
   "cell_type": "markdown",
   "metadata": {},
   "source": [
    "### Group 6: Bachelor's Degree"
   ]
  },
  {
   "cell_type": "code",
   "execution_count": 16,
   "metadata": {},
   "outputs": [
    {
     "name": "stderr",
     "output_type": "stream",
     "text": [
      "/Users/monicachen/opt/anaconda3/lib/python3.7/site-packages/ipykernel_launcher.py:3: SettingWithCopyWarning: \n",
      "A value is trying to be set on a copy of a slice from a DataFrame.\n",
      "Try using .loc[row_indexer,col_indexer] = value instead\n",
      "\n",
      "See the caveats in the documentation: http://pandas.pydata.org/pandas-docs/stable/user_guide/indexing.html#returning-a-view-versus-a-copy\n",
      "  This is separate from the ipykernel package so we can avoid doing imports until\n"
     ]
    },
    {
     "data": {
      "text/plain": [
       "0.6"
      ]
     },
     "execution_count": 16,
     "metadata": {},
     "output_type": "execute_result"
    }
   ],
   "source": [
    "#Group 6\n",
    "rate_column6 = round(((group6_df['Deaths'] )/ group6_df['Births'])*100,2)\n",
    "group6_df[\"Mortality Rate\"] = rate_column6\n",
    "group6_avg = round(group6_df[\"Mortality Rate\"].mean(),2)\n",
    "group6_avg"
   ]
  },
  {
   "cell_type": "markdown",
   "metadata": {},
   "source": [
    "### Group 7: Master's Degree"
   ]
  },
  {
   "cell_type": "code",
   "execution_count": 17,
   "metadata": {},
   "outputs": [
    {
     "name": "stderr",
     "output_type": "stream",
     "text": [
      "/Users/monicachen/opt/anaconda3/lib/python3.7/site-packages/ipykernel_launcher.py:3: SettingWithCopyWarning: \n",
      "A value is trying to be set on a copy of a slice from a DataFrame.\n",
      "Try using .loc[row_indexer,col_indexer] = value instead\n",
      "\n",
      "See the caveats in the documentation: http://pandas.pydata.org/pandas-docs/stable/user_guide/indexing.html#returning-a-view-versus-a-copy\n",
      "  This is separate from the ipykernel package so we can avoid doing imports until\n"
     ]
    },
    {
     "data": {
      "text/plain": [
       "0.53"
      ]
     },
     "execution_count": 17,
     "metadata": {},
     "output_type": "execute_result"
    }
   ],
   "source": [
    "#Group 7\n",
    "rate_column7 = round(((group7_df['Deaths'] )/ group7_df['Births'])*100,2)\n",
    "group7_df[\"Mortality Rate\"] = rate_column7\n",
    "group7_avg = round(group7_df[\"Mortality Rate\"].mean(),2)\n",
    "group7_avg"
   ]
  },
  {
   "cell_type": "markdown",
   "metadata": {},
   "source": [
    "### Group 8: Doctorate or Professional Degree"
   ]
  },
  {
   "cell_type": "code",
   "execution_count": 18,
   "metadata": {},
   "outputs": [
    {
     "name": "stderr",
     "output_type": "stream",
     "text": [
      "/Users/monicachen/opt/anaconda3/lib/python3.7/site-packages/ipykernel_launcher.py:3: SettingWithCopyWarning: \n",
      "A value is trying to be set on a copy of a slice from a DataFrame.\n",
      "Try using .loc[row_indexer,col_indexer] = value instead\n",
      "\n",
      "See the caveats in the documentation: http://pandas.pydata.org/pandas-docs/stable/user_guide/indexing.html#returning-a-view-versus-a-copy\n",
      "  This is separate from the ipykernel package so we can avoid doing imports until\n"
     ]
    },
    {
     "data": {
      "text/plain": [
       "0.51"
      ]
     },
     "execution_count": 18,
     "metadata": {},
     "output_type": "execute_result"
    }
   ],
   "source": [
    "#Group 7\n",
    "rate_column8 = round(((group8_df['Deaths'] )/ group8_df['Births'])*100,2)\n",
    "group8_df[\"Mortality Rate\"] = rate_column8\n",
    "group8_avg = round(group8_df[\"Mortality Rate\"].mean(),2)\n",
    "group8_avg"
   ]
  },
  {
   "cell_type": "code",
   "execution_count": 19,
   "metadata": {},
   "outputs": [
    {
     "data": {
      "text/html": [
       "<div>\n",
       "<style scoped>\n",
       "    .dataframe tbody tr th:only-of-type {\n",
       "        vertical-align: middle;\n",
       "    }\n",
       "\n",
       "    .dataframe tbody tr th {\n",
       "        vertical-align: top;\n",
       "    }\n",
       "\n",
       "    .dataframe thead th {\n",
       "        text-align: right;\n",
       "    }\n",
       "</style>\n",
       "<table border=\"1\" class=\"dataframe\">\n",
       "  <thead>\n",
       "    <tr style=\"text-align: right;\">\n",
       "      <th></th>\n",
       "      <th>Education Level</th>\n",
       "      <th>Mortality Rate</th>\n",
       "    </tr>\n",
       "  </thead>\n",
       "  <tbody>\n",
       "    <tr>\n",
       "      <td>0</td>\n",
       "      <td>8th Grade or less</td>\n",
       "      <td>0.79</td>\n",
       "    </tr>\n",
       "    <tr>\n",
       "      <td>1</td>\n",
       "      <td>9th through 12th grade with no diploma</td>\n",
       "      <td>0.90</td>\n",
       "    </tr>\n",
       "    <tr>\n",
       "      <td>2</td>\n",
       "      <td>High School Graduate or GED Completed</td>\n",
       "      <td>0.77</td>\n",
       "    </tr>\n",
       "    <tr>\n",
       "      <td>3</td>\n",
       "      <td>Some college credit, but not a degree</td>\n",
       "      <td>1.28</td>\n",
       "    </tr>\n",
       "    <tr>\n",
       "      <td>4</td>\n",
       "      <td>Associate Degree</td>\n",
       "      <td>0.68</td>\n",
       "    </tr>\n",
       "    <tr>\n",
       "      <td>5</td>\n",
       "      <td>Bachelor Degree</td>\n",
       "      <td>0.60</td>\n",
       "    </tr>\n",
       "    <tr>\n",
       "      <td>6</td>\n",
       "      <td>Masters Degree</td>\n",
       "      <td>0.53</td>\n",
       "    </tr>\n",
       "    <tr>\n",
       "      <td>7</td>\n",
       "      <td>Doctorate or Professional Degree</td>\n",
       "      <td>0.51</td>\n",
       "    </tr>\n",
       "  </tbody>\n",
       "</table>\n",
       "</div>"
      ],
      "text/plain": [
       "                          Education Level  Mortality Rate\n",
       "0                       8th Grade or less            0.79\n",
       "1  9th through 12th grade with no diploma            0.90\n",
       "2   High School Graduate or GED Completed            0.77\n",
       "3   Some college credit, but not a degree            1.28\n",
       "4                        Associate Degree            0.68\n",
       "5                         Bachelor Degree            0.60\n",
       "6                          Masters Degree            0.53\n",
       "7        Doctorate or Professional Degree            0.51"
      ]
     },
     "execution_count": 19,
     "metadata": {},
     "output_type": "execute_result"
    }
   ],
   "source": [
    "data = {'Education Level':  [\"8th Grade or less\", \"9th through 12th grade with no diploma\",\"High School Graduate or GED Completed\",\n",
    "                            \"Some college credit, but not a degree\",\"Associate Degree\",\"Bachelor Degree\",\"Masters Degree\",\n",
    "                            \"Doctorate or Professional Degree\"],\n",
    "        'Mortality Rate': [group1_avg, group2_avg, group3_avg, group4_avg, group5_avg, group6_avg,\n",
    "                               group7_avg,group8_avg]\n",
    "        }\n",
    "compiled_df = pd.DataFrame (data, columns = ['Education Level','Mortality Rate'])\n",
    "compiled_df"
   ]
  },
  {
   "cell_type": "code",
   "execution_count": 117,
   "metadata": {},
   "outputs": [
    {
     "data": {
      "image/png": "[encoded data removed]",
      "text/plain": [
       "<Figure size 432x288 with 1 Axes>"
      ]
     },
     "metadata": {
      "needs_background": "light"
     },
     "output_type": "display_data"
    }
   ],
   "source": [
    "fig = plt.figure()\n",
    "\n",
    "education_level = [\"8th Grade or less\", \"9th through 12th grade with no diploma\",\"High School Graduate or GED Completed\",\n",
    "            \"Some college credit, but not a degree\",\"Associate Degree\",\"Bachelor Degree\",\"Masters Degree\",\n",
    "            \"Doctorate or Professional Degree\"][::-1]\n",
    "rate = [group1_avg, group2_avg, group3_avg, group4_avg, group5_avg, group6_avg,group7_avg,group8_avg]\n",
    "x_axis = np.arange(len(education_level))\n",
    "tick_locations = [value for value in x_axis]\n",
    "#Plot bar charts\n",
    "plt.barh(x_axis, rate, align='center', alpha=0.5, color=\"blue\")\n",
    "#plt.xticks(x_axis, regimens)\n",
    "plt.yticks(tick_locations, education_level, rotation=\"0\")\n",
    "plt.xlabel('Mortality Rate %')\n",
    "plt.title(\"Mother's Education Level vs Mortality Rate\")\n",
    "plt.savefig('test.png', dpi=100, bbox_inches='tight')\n",
    "plt.show()\n"
   ]
  },
  {
   "cell_type": "markdown",
   "metadata": {},
   "source": [
    "## Does Marital Status Matter?\n",
    "Separate education level vs mortality rate data by marital status"
   ]
  },
  {
   "cell_type": "code",
   "execution_count": 27,
   "metadata": {},
   "outputs": [
    {
     "data": {
      "text/html": [
       "<div>\n",
       "<style scoped>\n",
       "    .dataframe tbody tr th:only-of-type {\n",
       "        vertical-align: middle;\n",
       "    }\n",
       "\n",
       "    .dataframe tbody tr th {\n",
       "        vertical-align: top;\n",
       "    }\n",
       "\n",
       "    .dataframe thead th {\n",
       "        text-align: right;\n",
       "    }\n",
       "</style>\n",
       "<table border=\"1\" class=\"dataframe\">\n",
       "  <thead>\n",
       "    <tr style=\"text-align: right;\">\n",
       "      <th></th>\n",
       "      <th>Mother's Marital Status</th>\n",
       "      <th>Education Code</th>\n",
       "      <th>Deaths</th>\n",
       "      <th>Births</th>\n",
       "      <th>Death Rate</th>\n",
       "    </tr>\n",
       "  </thead>\n",
       "  <tbody>\n",
       "    <tr>\n",
       "      <td>90</td>\n",
       "      <td>Unmarried</td>\n",
       "      <td>1</td>\n",
       "      <td>291</td>\n",
       "      <td>18879</td>\n",
       "      <td>15.41</td>\n",
       "    </tr>\n",
       "    <tr>\n",
       "      <td>91</td>\n",
       "      <td>Unmarried</td>\n",
       "      <td>2</td>\n",
       "      <td>117</td>\n",
       "      <td>10580</td>\n",
       "      <td>11.06</td>\n",
       "    </tr>\n",
       "    <tr>\n",
       "      <td>95</td>\n",
       "      <td>Unmarried</td>\n",
       "      <td>1</td>\n",
       "      <td>772</td>\n",
       "      <td>92887</td>\n",
       "      <td>8.31</td>\n",
       "    </tr>\n",
       "    <tr>\n",
       "      <td>96</td>\n",
       "      <td>Unmarried</td>\n",
       "      <td>2</td>\n",
       "      <td>10129</td>\n",
       "      <td>1105348</td>\n",
       "      <td>9.16</td>\n",
       "    </tr>\n",
       "    <tr>\n",
       "      <td>97</td>\n",
       "      <td>Unmarried</td>\n",
       "      <td>3</td>\n",
       "      <td>6470</td>\n",
       "      <td>809756</td>\n",
       "      <td>7.99</td>\n",
       "    </tr>\n",
       "    <tr>\n",
       "      <td>...</td>\n",
       "      <td>...</td>\n",
       "      <td>...</td>\n",
       "      <td>...</td>\n",
       "      <td>...</td>\n",
       "      <td>...</td>\n",
       "    </tr>\n",
       "    <tr>\n",
       "      <td>170</td>\n",
       "      <td>Unmarried</td>\n",
       "      <td>2</td>\n",
       "      <td>2</td>\n",
       "      <td>60</td>\n",
       "      <td>33.33 (Unreliable)</td>\n",
       "    </tr>\n",
       "    <tr>\n",
       "      <td>171</td>\n",
       "      <td>Unmarried</td>\n",
       "      <td>3</td>\n",
       "      <td>3</td>\n",
       "      <td>165</td>\n",
       "      <td>18.18 (Unreliable)</td>\n",
       "    </tr>\n",
       "    <tr>\n",
       "      <td>172</td>\n",
       "      <td>Unmarried</td>\n",
       "      <td>6</td>\n",
       "      <td>2</td>\n",
       "      <td>233</td>\n",
       "      <td>8.58 (Unreliable)</td>\n",
       "    </tr>\n",
       "    <tr>\n",
       "      <td>173</td>\n",
       "      <td>Unmarried</td>\n",
       "      <td>7</td>\n",
       "      <td>2</td>\n",
       "      <td>176</td>\n",
       "      <td>11.36 (Unreliable)</td>\n",
       "    </tr>\n",
       "    <tr>\n",
       "      <td>174</td>\n",
       "      <td>Unmarried</td>\n",
       "      <td>8</td>\n",
       "      <td>3</td>\n",
       "      <td>144</td>\n",
       "      <td>20.83 (Unreliable)</td>\n",
       "    </tr>\n",
       "  </tbody>\n",
       "</table>\n",
       "<p>61 rows × 5 columns</p>\n",
       "</div>"
      ],
      "text/plain": [
       "    Mother's Marital Status  Education Code  Deaths   Births  \\\n",
       "90                Unmarried               1     291    18879   \n",
       "91                Unmarried               2     117    10580   \n",
       "95                Unmarried               1     772    92887   \n",
       "96                Unmarried               2   10129  1105348   \n",
       "97                Unmarried               3    6470   809756   \n",
       "..                      ...             ...     ...      ...   \n",
       "170               Unmarried               2       2       60   \n",
       "171               Unmarried               3       3      165   \n",
       "172               Unmarried               6       2      233   \n",
       "173               Unmarried               7       2      176   \n",
       "174               Unmarried               8       3      144   \n",
       "\n",
       "             Death Rate  \n",
       "90                15.41  \n",
       "91                11.06  \n",
       "95                 8.31  \n",
       "96                 9.16  \n",
       "97                 7.99  \n",
       "..                  ...  \n",
       "170  33.33 (Unreliable)  \n",
       "171  18.18 (Unreliable)  \n",
       "172   8.58 (Unreliable)  \n",
       "173  11.36 (Unreliable)  \n",
       "174  20.83 (Unreliable)  \n",
       "\n",
       "[61 rows x 5 columns]"
      ]
     },
     "execution_count": 27,
     "metadata": {},
     "output_type": "execute_result"
    }
   ],
   "source": [
    "marital_df = df_.replace('Not Reported',np.nan,regex=True)\n",
    "marital_df = marital_df.dropna()\n",
    "\n",
    "married_df = marital_df[marital_df[\"Mother's Marital Status\"] == \"Married\"]\n",
    "unmarried_df = marital_df[marital_df[\"Mother's Marital Status\"] == \"Unmarried\"]\n",
    "unmarried_df\n",
    "\n",
    "#group1_df = df_[df_[\"Education Code\"] == 1]"
   ]
  },
  {
   "cell_type": "markdown",
   "metadata": {},
   "source": [
    "## Separate Marriage Status Dataframe by Education Level"
   ]
  },
  {
   "cell_type": "code",
   "execution_count": 28,
   "metadata": {},
   "outputs": [],
   "source": [
    "mgroup1_df = married_df[married_df[\"Education Code\"] == 1]\n",
    "mgroup2_df = married_df[married_df[\"Education Code\"] == 2]\n",
    "mgroup3_df = married_df[married_df[\"Education Code\"] == 3]\n",
    "mgroup4_df = married_df[married_df[\"Education Code\"] == 4]\n",
    "mgroup5_df = married_df[married_df[\"Education Code\"] == 5]\n",
    "mgroup6_df = married_df[married_df[\"Education Code\"] == 6]\n",
    "mgroup7_df = married_df[married_df[\"Education Code\"] == 7]\n",
    "mgroup8_df = married_df[married_df[\"Education Code\"] == 8]"
   ]
  },
  {
   "cell_type": "code",
   "execution_count": 36,
   "metadata": {},
   "outputs": [],
   "source": [
    "umgroup1_df = unmarried_df[unmarried_df[\"Education Code\"] == 1]\n",
    "umgroup2_df = unmarried_df[unmarried_df[\"Education Code\"] == 2]\n",
    "umgroup3_df = unmarried_df[unmarried_df[\"Education Code\"] == 3]\n",
    "umgroup4_df = unmarried_df[unmarried_df[\"Education Code\"] == 4]\n",
    "umgroup5_df = unmarried_df[unmarried_df[\"Education Code\"] == 5]\n",
    "umgroup6_df = unmarried_df[unmarried_df[\"Education Code\"] == 6]\n",
    "umgroup7_df = unmarried_df[unmarried_df[\"Education Code\"] == 7]\n",
    "umgroup8_df = unmarried_df[unmarried_df[\"Education Code\"] == 8]"
   ]
  },
  {
   "cell_type": "code",
   "execution_count": 37,
   "metadata": {},
   "outputs": [
    {
     "name": "stderr",
     "output_type": "stream",
     "text": [
      "/Users/monicachen/opt/anaconda3/lib/python3.7/site-packages/ipykernel_launcher.py:3: SettingWithCopyWarning: \n",
      "A value is trying to be set on a copy of a slice from a DataFrame.\n",
      "Try using .loc[row_indexer,col_indexer] = value instead\n",
      "\n",
      "See the caveats in the documentation: http://pandas.pydata.org/pandas-docs/stable/user_guide/indexing.html#returning-a-view-versus-a-copy\n",
      "  This is separate from the ipykernel package so we can avoid doing imports until\n",
      "/Users/monicachen/opt/anaconda3/lib/python3.7/site-packages/ipykernel_launcher.py:8: SettingWithCopyWarning: \n",
      "A value is trying to be set on a copy of a slice from a DataFrame.\n",
      "Try using .loc[row_indexer,col_indexer] = value instead\n",
      "\n",
      "See the caveats in the documentation: http://pandas.pydata.org/pandas-docs/stable/user_guide/indexing.html#returning-a-view-versus-a-copy\n",
      "  \n",
      "/Users/monicachen/opt/anaconda3/lib/python3.7/site-packages/ipykernel_launcher.py:13: SettingWithCopyWarning: \n",
      "A value is trying to be set on a copy of a slice from a DataFrame.\n",
      "Try using .loc[row_indexer,col_indexer] = value instead\n",
      "\n",
      "See the caveats in the documentation: http://pandas.pydata.org/pandas-docs/stable/user_guide/indexing.html#returning-a-view-versus-a-copy\n",
      "  del sys.path[0]\n",
      "/Users/monicachen/opt/anaconda3/lib/python3.7/site-packages/ipykernel_launcher.py:18: SettingWithCopyWarning: \n",
      "A value is trying to be set on a copy of a slice from a DataFrame.\n",
      "Try using .loc[row_indexer,col_indexer] = value instead\n",
      "\n",
      "See the caveats in the documentation: http://pandas.pydata.org/pandas-docs/stable/user_guide/indexing.html#returning-a-view-versus-a-copy\n",
      "/Users/monicachen/opt/anaconda3/lib/python3.7/site-packages/ipykernel_launcher.py:23: SettingWithCopyWarning: \n",
      "A value is trying to be set on a copy of a slice from a DataFrame.\n",
      "Try using .loc[row_indexer,col_indexer] = value instead\n",
      "\n",
      "See the caveats in the documentation: http://pandas.pydata.org/pandas-docs/stable/user_guide/indexing.html#returning-a-view-versus-a-copy\n",
      "/Users/monicachen/opt/anaconda3/lib/python3.7/site-packages/ipykernel_launcher.py:28: SettingWithCopyWarning: \n",
      "A value is trying to be set on a copy of a slice from a DataFrame.\n",
      "Try using .loc[row_indexer,col_indexer] = value instead\n",
      "\n",
      "See the caveats in the documentation: http://pandas.pydata.org/pandas-docs/stable/user_guide/indexing.html#returning-a-view-versus-a-copy\n",
      "/Users/monicachen/opt/anaconda3/lib/python3.7/site-packages/ipykernel_launcher.py:33: SettingWithCopyWarning: \n",
      "A value is trying to be set on a copy of a slice from a DataFrame.\n",
      "Try using .loc[row_indexer,col_indexer] = value instead\n",
      "\n",
      "See the caveats in the documentation: http://pandas.pydata.org/pandas-docs/stable/user_guide/indexing.html#returning-a-view-versus-a-copy\n",
      "/Users/monicachen/opt/anaconda3/lib/python3.7/site-packages/ipykernel_launcher.py:38: SettingWithCopyWarning: \n",
      "A value is trying to be set on a copy of a slice from a DataFrame.\n",
      "Try using .loc[row_indexer,col_indexer] = value instead\n",
      "\n",
      "See the caveats in the documentation: http://pandas.pydata.org/pandas-docs/stable/user_guide/indexing.html#returning-a-view-versus-a-copy\n"
     ]
    }
   ],
   "source": [
    "#Group 1\n",
    "mrate_column1 = round(((mgroup1_df['Deaths'] )/ mgroup1_df['Births'])*100,2)\n",
    "mgroup1_df[\"Mortality Rate\"] = mrate_column1\n",
    "mgroup1_avg = round(mgroup1_df[\"Mortality Rate\"].mean(),2)\n",
    "\n",
    "#Group 2\n",
    "mrate_column2 = round((mgroup2_df['Deaths'] / mgroup2_df['Births']) * 100,2)\n",
    "mgroup2_df[\"Mortality Rate\"] = mrate_column2\n",
    "mgroup2_avg = round(mgroup2_df[\"Mortality Rate\"].mean(),2)\n",
    "\n",
    "#Group 3\n",
    "mrate_column3 = round(((mgroup3_df['Deaths'] )/ mgroup3_df['Births'])*100,2)\n",
    "mgroup3_df[\"Mortality Rate\"] = mrate_column3\n",
    "mgroup3_avg = round(mgroup3_df[\"Mortality Rate\"].mean(),2)\n",
    "\n",
    "#Group 4\n",
    "mrate_column4 = round(((mgroup4_df['Deaths'] )/ mgroup4_df['Births'])*100,2)\n",
    "mgroup4_df[\"Mortality Rate\"] = mrate_column4\n",
    "mgroup4_avg = round(mgroup4_df[\"Mortality Rate\"].mean(),2)\n",
    "\n",
    "#Group 5\n",
    "mrate_column5 = round(((mgroup5_df['Deaths'] )/ mgroup5_df['Births'])*100,2)\n",
    "mgroup5_df[\"Mortality Rate\"] = mrate_column5\n",
    "mgroup5_avg = round(mgroup5_df[\"Mortality Rate\"].mean(),2)\n",
    "\n",
    "#Group 6\n",
    "mrate_column6 = round(((mgroup6_df['Deaths'] )/ mgroup6_df['Births'])*100,2)\n",
    "mgroup6_df[\"Mortality Rate\"] = mrate_column6\n",
    "mgroup6_avg = round(mgroup6_df[\"Mortality Rate\"].mean(),2)\n",
    "\n",
    "#Group 7\n",
    "mrate_column7 = round(((mgroup7_df['Deaths'] )/ mgroup7_df['Births'])*100,2)\n",
    "mgroup7_df[\"Mortality Rate\"] = mrate_column7\n",
    "mgroup7_avg = round(mgroup7_df[\"Mortality Rate\"].mean(),2)\n",
    "\n",
    "#Group 8\n",
    "mrate_column8 = round(((mgroup8_df['Deaths'] )/ mgroup8_df['Births'])*100,2)\n",
    "mgroup8_df[\"Mortality Rate\"] = mrate_column8\n",
    "mgroup8_avg = round(mgroup8_df[\"Mortality Rate\"].mean(),2)"
   ]
  },
  {
   "cell_type": "code",
   "execution_count": 38,
   "metadata": {},
   "outputs": [
    {
     "name": "stderr",
     "output_type": "stream",
     "text": [
      "/Users/monicachen/opt/anaconda3/lib/python3.7/site-packages/ipykernel_launcher.py:3: SettingWithCopyWarning: \n",
      "A value is trying to be set on a copy of a slice from a DataFrame.\n",
      "Try using .loc[row_indexer,col_indexer] = value instead\n",
      "\n",
      "See the caveats in the documentation: http://pandas.pydata.org/pandas-docs/stable/user_guide/indexing.html#returning-a-view-versus-a-copy\n",
      "  This is separate from the ipykernel package so we can avoid doing imports until\n",
      "/Users/monicachen/opt/anaconda3/lib/python3.7/site-packages/ipykernel_launcher.py:8: SettingWithCopyWarning: \n",
      "A value is trying to be set on a copy of a slice from a DataFrame.\n",
      "Try using .loc[row_indexer,col_indexer] = value instead\n",
      "\n",
      "See the caveats in the documentation: http://pandas.pydata.org/pandas-docs/stable/user_guide/indexing.html#returning-a-view-versus-a-copy\n",
      "  \n",
      "/Users/monicachen/opt/anaconda3/lib/python3.7/site-packages/ipykernel_launcher.py:13: SettingWithCopyWarning: \n",
      "A value is trying to be set on a copy of a slice from a DataFrame.\n",
      "Try using .loc[row_indexer,col_indexer] = value instead\n",
      "\n",
      "See the caveats in the documentation: http://pandas.pydata.org/pandas-docs/stable/user_guide/indexing.html#returning-a-view-versus-a-copy\n",
      "  del sys.path[0]\n",
      "/Users/monicachen/opt/anaconda3/lib/python3.7/site-packages/ipykernel_launcher.py:18: SettingWithCopyWarning: \n",
      "A value is trying to be set on a copy of a slice from a DataFrame.\n",
      "Try using .loc[row_indexer,col_indexer] = value instead\n",
      "\n",
      "See the caveats in the documentation: http://pandas.pydata.org/pandas-docs/stable/user_guide/indexing.html#returning-a-view-versus-a-copy\n",
      "/Users/monicachen/opt/anaconda3/lib/python3.7/site-packages/ipykernel_launcher.py:23: SettingWithCopyWarning: \n",
      "A value is trying to be set on a copy of a slice from a DataFrame.\n",
      "Try using .loc[row_indexer,col_indexer] = value instead\n",
      "\n",
      "See the caveats in the documentation: http://pandas.pydata.org/pandas-docs/stable/user_guide/indexing.html#returning-a-view-versus-a-copy\n",
      "/Users/monicachen/opt/anaconda3/lib/python3.7/site-packages/ipykernel_launcher.py:28: SettingWithCopyWarning: \n",
      "A value is trying to be set on a copy of a slice from a DataFrame.\n",
      "Try using .loc[row_indexer,col_indexer] = value instead\n",
      "\n",
      "See the caveats in the documentation: http://pandas.pydata.org/pandas-docs/stable/user_guide/indexing.html#returning-a-view-versus-a-copy\n",
      "/Users/monicachen/opt/anaconda3/lib/python3.7/site-packages/ipykernel_launcher.py:33: SettingWithCopyWarning: \n",
      "A value is trying to be set on a copy of a slice from a DataFrame.\n",
      "Try using .loc[row_indexer,col_indexer] = value instead\n",
      "\n",
      "See the caveats in the documentation: http://pandas.pydata.org/pandas-docs/stable/user_guide/indexing.html#returning-a-view-versus-a-copy\n",
      "/Users/monicachen/opt/anaconda3/lib/python3.7/site-packages/ipykernel_launcher.py:38: SettingWithCopyWarning: \n",
      "A value is trying to be set on a copy of a slice from a DataFrame.\n",
      "Try using .loc[row_indexer,col_indexer] = value instead\n",
      "\n",
      "See the caveats in the documentation: http://pandas.pydata.org/pandas-docs/stable/user_guide/indexing.html#returning-a-view-versus-a-copy\n"
     ]
    }
   ],
   "source": [
    "#Group 1\n",
    "umrate_column1 = round(((umgroup1_df['Deaths'] )/ umgroup1_df['Births'])*100,2)\n",
    "umgroup1_df[\"Mortality Rate\"] = umrate_column1\n",
    "umgroup1_avg = round(umgroup1_df[\"Mortality Rate\"].mean(),2)\n",
    "\n",
    "#Group 2\n",
    "umrate_column2 = round((umgroup2_df['Deaths'] / umgroup2_df['Births']) * 100,2)\n",
    "umgroup2_df[\"Mortality Rate\"] = umrate_column2\n",
    "umgroup2_avg = round(umgroup2_df[\"Mortality Rate\"].mean(),2)\n",
    "\n",
    "#Group 3\n",
    "umrate_column3 = round(((umgroup3_df['Deaths'] )/ umgroup3_df['Births'])*100,2)\n",
    "umgroup3_df[\"Mortality Rate\"] = umrate_column3\n",
    "umgroup3_avg = round(umgroup3_df[\"Mortality Rate\"].mean(),2)\n",
    "\n",
    "#Group 4\n",
    "umrate_column4 = round(((umgroup4_df['Deaths'] )/ umgroup4_df['Births'])*100,2)\n",
    "umgroup4_df[\"Mortality Rate\"] = umrate_column4\n",
    "umgroup4_avg = round(umgroup4_df[\"Mortality Rate\"].mean(),2)\n",
    "\n",
    "#Group 5\n",
    "umrate_column5 = round(((umgroup5_df['Deaths'] )/ umgroup5_df['Births'])*100,2)\n",
    "umgroup5_df[\"Mortality Rate\"] = umrate_column5\n",
    "umgroup5_avg = round(umgroup5_df[\"Mortality Rate\"].mean(),2)\n",
    "\n",
    "#Group 6\n",
    "umrate_column6 = round(((umgroup6_df['Deaths'] )/ umgroup6_df['Births'])*100,2)\n",
    "umgroup6_df[\"Mortality Rate\"] = umrate_column6\n",
    "umgroup6_avg = round(umgroup6_df[\"Mortality Rate\"].mean(),2)\n",
    "\n",
    "#Group 7\n",
    "umrate_column7 = round(((umgroup7_df['Deaths'] )/ umgroup7_df['Births'])*100,2)\n",
    "umgroup7_df[\"Mortality Rate\"] = umrate_column7\n",
    "umgroup7_avg = round(umgroup7_df[\"Mortality Rate\"].mean(),2)\n",
    "\n",
    "#Group 8\n",
    "umrate_column8 = round(((umgroup8_df['Deaths'] )/ umgroup8_df['Births'])*100,2)\n",
    "umgroup8_df[\"Mortality Rate\"] = umrate_column8\n",
    "umgroup8_avg = round(umgroup8_df[\"Mortality Rate\"].mean(),2)"
   ]
  },
  {
   "cell_type": "code",
   "execution_count": 40,
   "metadata": {},
   "outputs": [
    {
     "data": {
      "text/html": [
       "<div>\n",
       "<style scoped>\n",
       "    .dataframe tbody tr th:only-of-type {\n",
       "        vertical-align: middle;\n",
       "    }\n",
       "\n",
       "    .dataframe tbody tr th {\n",
       "        vertical-align: top;\n",
       "    }\n",
       "\n",
       "    .dataframe thead th {\n",
       "        text-align: right;\n",
       "    }\n",
       "</style>\n",
       "<table border=\"1\" class=\"dataframe\">\n",
       "  <thead>\n",
       "    <tr style=\"text-align: right;\">\n",
       "      <th></th>\n",
       "      <th>Education Level</th>\n",
       "      <th>Married Mortality Rate</th>\n",
       "      <th>Unmarried Mortality Rate</th>\n",
       "    </tr>\n",
       "  </thead>\n",
       "  <tbody>\n",
       "    <tr>\n",
       "      <td>0</td>\n",
       "      <td>8th Grade or less</td>\n",
       "      <td>0.92</td>\n",
       "      <td>0.88</td>\n",
       "    </tr>\n",
       "    <tr>\n",
       "      <td>1</td>\n",
       "      <td>9th through 12th grade with no diploma</td>\n",
       "      <td>0.80</td>\n",
       "      <td>1.25</td>\n",
       "    </tr>\n",
       "    <tr>\n",
       "      <td>2</td>\n",
       "      <td>High School Graduate or GED Completed</td>\n",
       "      <td>0.66</td>\n",
       "      <td>1.12</td>\n",
       "    </tr>\n",
       "    <tr>\n",
       "      <td>3</td>\n",
       "      <td>Some college credit, but not a degree</td>\n",
       "      <td>0.86</td>\n",
       "      <td>0.87</td>\n",
       "    </tr>\n",
       "    <tr>\n",
       "      <td>4</td>\n",
       "      <td>Associate Degree</td>\n",
       "      <td>0.63</td>\n",
       "      <td>0.82</td>\n",
       "    </tr>\n",
       "    <tr>\n",
       "      <td>5</td>\n",
       "      <td>Bachelor Degree</td>\n",
       "      <td>0.46</td>\n",
       "      <td>0.71</td>\n",
       "    </tr>\n",
       "    <tr>\n",
       "      <td>6</td>\n",
       "      <td>Masters Degree</td>\n",
       "      <td>0.57</td>\n",
       "      <td>0.70</td>\n",
       "    </tr>\n",
       "    <tr>\n",
       "      <td>7</td>\n",
       "      <td>Doctorate or Professional Degree</td>\n",
       "      <td>0.40</td>\n",
       "      <td>0.75</td>\n",
       "    </tr>\n",
       "  </tbody>\n",
       "</table>\n",
       "</div>"
      ],
      "text/plain": [
       "                          Education Level  Married Mortality Rate  \\\n",
       "0                       8th Grade or less                    0.92   \n",
       "1  9th through 12th grade with no diploma                    0.80   \n",
       "2   High School Graduate or GED Completed                    0.66   \n",
       "3   Some college credit, but not a degree                    0.86   \n",
       "4                        Associate Degree                    0.63   \n",
       "5                         Bachelor Degree                    0.46   \n",
       "6                          Masters Degree                    0.57   \n",
       "7        Doctorate or Professional Degree                    0.40   \n",
       "\n",
       "   Unmarried Mortality Rate  \n",
       "0                      0.88  \n",
       "1                      1.25  \n",
       "2                      1.12  \n",
       "3                      0.87  \n",
       "4                      0.82  \n",
       "5                      0.71  \n",
       "6                      0.70  \n",
       "7                      0.75  "
      ]
     },
     "execution_count": 40,
     "metadata": {},
     "output_type": "execute_result"
    }
   ],
   "source": [
    "data = {'Education Level':  [\"8th Grade or less\", \"9th through 12th grade with no diploma\",\"High School Graduate or GED Completed\",\n",
    "                            \"Some college credit, but not a degree\",\"Associate Degree\",\"Bachelor Degree\",\"Masters Degree\",\n",
    "                            \"Doctorate or Professional Degree\"],\n",
    "        'Married Mortality Rate': [mgroup1_avg, mgroup2_avg, mgroup3_avg, mgroup4_avg, mgroup5_avg, mgroup6_avg,\n",
    "                               mgroup7_avg, mgroup8_avg],\n",
    "        'Unmarried Mortality Rate': [umgroup1_avg, umgroup2_avg, umgroup3_avg, umgroup4_avg, umgroup5_avg, umgroup6_avg,\n",
    "                               umgroup7_avg, umgroup8_avg]\n",
    "        }\n",
    "compiled_df = pd.DataFrame (data, columns = ['Education Level','Married Mortality Rate','Unmarried Mortality Rate'])\n",
    "compiled_df"
   ]
  },
  {
   "cell_type": "code",
   "execution_count": 120,
   "metadata": {},
   "outputs": [
    {
     "data": {
      "image/png": "[encoded data removed]",
      "text/plain": [
       "<Figure size 432x288 with 1 Axes>"
      ]
     },
     "metadata": {
      "needs_background": "light"
     },
     "output_type": "display_data"
    }
   ],
   "source": [
    "married = compiled_df[\"Married Mortality Rate\"].to_list()\n",
    "unmarried = compiled_df[\"Unmarried Mortality Rate\"].to_list()\n",
    "education = compiled_df[\"Education Level\"].to_list()[::-1]\n",
    "plot_df = pd.DataFrame({\"married\": married, \"unmarried\": unmarried, \"education\": education},index = education)\n",
    "ax = plot_df.plot.barh(color=['r','b'], width = 0.65, align='center')\n",
    "plt.title('Maternal Education Level vs Mortality Rate')\n",
    "plt.xlabel('Mortality Rate (%)')\n",
    "\n",
    "plt.savefig('MarriedvsUnmarried.png', dpi=100, bbox_inches='tight')"
   ]
  },
  {
   "cell_type": "code",
   "execution_count": 82,
   "metadata": {},
   "outputs": [
    {
     "name": "stdout",
     "output_type": "stream",
     "text": [
      "[0.88 1.25 1.12 0.87 0.82 0.71 0.7  0.75]\n"
     ]
    }
   ],
   "source": [
    "#print(np.asarray(compiled_df[\"Unmarried Mortality Rate\"].to_list()))"
   ]
  },
  {
   "cell_type": "code",
   "execution_count": null,
   "metadata": {},
   "outputs": [],
   "source": []
  },
  {
   "cell_type": "code",
   "execution_count": 84,
   "metadata": {},
   "outputs": [
    {
     "ename": "SyntaxError",
     "evalue": "invalid syntax (<ipython-input-84-0599f0aa660c>, line 13)",
     "output_type": "error",
     "traceback": [
      "\u001b[0;36m  File \u001b[0;32m\"<ipython-input-84-0599f0aa660c>\"\u001b[0;36m, line \u001b[0;32m13\u001b[0m\n\u001b[0;31m    ax.barh(education, [0.92 0.8 0.66 0.86 0.63 0.46 0.57 0.4; 0.88 1.25 1.12 0.87 0.82 0.71 0.7  0.75], color='b', align='center')\u001b[0m\n\u001b[0m                               ^\u001b[0m\n\u001b[0;31mSyntaxError\u001b[0m\u001b[0;31m:\u001b[0m invalid syntax\n"
     ]
    }
   ],
   "source": [
    "#fig2 = plt.figure()\n",
    "\n",
    "#education_level = [\"8th Grade or less\", \"9th through 12th grade with no diploma\",\"High School Graduate or GED Completed\",\n",
    "            \"Some college credit, but not a degree\",\"Associate Degree\",\"Bachelor Degree\",\"Masters Degree\",\n",
    "            \"Doctorate or Professional Degree\"]\n",
    "#mrate = [mgroup1_avg, mgroup2_avg, mgroup3_avg, mgroup4_avg, mgroup5_avg, mgroup6_avg, mgroup7_avg, mgroup8_avg]\n",
    "#umrate = [umgroup1_avg, umgroup2_avg, umgroup3_avg, umgroup4_avg, umgroup5_avg, umgroup6_avg, umgroup7_avg, umgroup8_avg]\n",
    "#x_axis = np.arange(len(education_level))\n",
    "#tick_locations = [value for value in x_axis]\n",
    "\n",
    "#Plot bar charts\n",
    "#ax = plt.subplot(111)\n",
    "#ax.barh(education, [0.92 0.8 0.66 0.86 0.63 0.46 0.57 0.4; 0.88 1.25 1.12 0.87 0.82 0.71 0.7  0.75], color='b', align='center')\n",
    "#ax.barh(education, unmarried, color='r', align='center')\n",
    "\n",
    "#plt.show()\n"
   ]
  },
  {
   "cell_type": "code",
   "execution_count": 64,
   "metadata": {},
   "outputs": [
    {
     "data": {
      "text/plain": [
       "8"
      ]
     },
     "execution_count": 64,
     "metadata": {},
     "output_type": "execute_result"
    }
   ],
   "source": []
  },
  {
   "cell_type": "code",
   "execution_count": 65,
   "metadata": {},
   "outputs": [
    {
     "data": {
      "text/plain": [
       "8"
      ]
     },
     "execution_count": 65,
     "metadata": {},
     "output_type": "execute_result"
    }
   ],
   "source": []
  },
  {
   "cell_type": "code",
   "execution_count": 68,
   "metadata": {},
   "outputs": [
    {
     "ename": "TypeError",
     "evalue": "barh() got multiple values for argument 'width'",
     "output_type": "error",
     "traceback": [
      "\u001b[0;31m---------------------------------------------------------------------------\u001b[0m",
      "\u001b[0;31mTypeError\u001b[0m                                 Traceback (most recent call last)",
      "\u001b[0;32m<ipython-input-68-5c04020d2f0f>\u001b[0m in \u001b[0;36m<module>\u001b[0;34m\u001b[0m\n\u001b[0;32m----> 1\u001b[0;31m \u001b[0mp1\u001b[0m \u001b[0;34m=\u001b[0m \u001b[0mplt\u001b[0m\u001b[0;34m.\u001b[0m\u001b[0mbarh\u001b[0m\u001b[0;34m(\u001b[0m\u001b[0mx_axis\u001b[0m\u001b[0;34m-\u001b[0m\u001b[0;36m0.2\u001b[0m\u001b[0;34m,\u001b[0m \u001b[0mmrate\u001b[0m\u001b[0;34m,\u001b[0m \u001b[0mwidth\u001b[0m\u001b[0;34m=\u001b[0m\u001b[0;36m0.35\u001b[0m\u001b[0;34m,\u001b[0m \u001b[0mcolor\u001b[0m\u001b[0;34m=\u001b[0m\u001b[0;34m'b'\u001b[0m\u001b[0;34m,\u001b[0m \u001b[0malign\u001b[0m\u001b[0;34m=\u001b[0m\u001b[0;34m'center'\u001b[0m\u001b[0;34m)\u001b[0m\u001b[0;34m\u001b[0m\u001b[0;34m\u001b[0m\u001b[0m\n\u001b[0m\u001b[1;32m      2\u001b[0m \u001b[0mp2\u001b[0m \u001b[0;34m=\u001b[0m \u001b[0mplt\u001b[0m\u001b[0;34m.\u001b[0m\u001b[0mbarh\u001b[0m\u001b[0;34m(\u001b[0m\u001b[0mx_axis\u001b[0m\u001b[0;34m+\u001b[0m\u001b[0;36m0.2\u001b[0m\u001b[0;34m,\u001b[0m \u001b[0mumrate\u001b[0m\u001b[0;34m,\u001b[0m \u001b[0mwidth\u001b[0m\u001b[0;34m=\u001b[0m\u001b[0;36m0.35\u001b[0m\u001b[0;34m,\u001b[0m \u001b[0mcolor\u001b[0m\u001b[0;34m=\u001b[0m\u001b[0;34m'r'\u001b[0m\u001b[0;34m,\u001b[0m \u001b[0malign\u001b[0m\u001b[0;34m=\u001b[0m\u001b[0;34m'center'\u001b[0m\u001b[0;34m)\u001b[0m\u001b[0;34m\u001b[0m\u001b[0;34m\u001b[0m\u001b[0m\n\u001b[1;32m      3\u001b[0m \u001b[0mplt\u001b[0m\u001b[0;34m.\u001b[0m\u001b[0mshow\u001b[0m\u001b[0;34m(\u001b[0m\u001b[0;34m)\u001b[0m\u001b[0;34m\u001b[0m\u001b[0;34m\u001b[0m\u001b[0m\n",
      "\u001b[0;31mTypeError\u001b[0m: barh() got multiple values for argument 'width'"
     ]
    }
   ],
   "source": [
    "#p1 = plt.barh(x_axis-0.2, mrate, width=0.35, color='b', align='center')\n",
    "#p2 = plt.barh(x_axis+0.2, umrate, width=0.35, color='r', align='center')\n",
    "#plt.show()"
   ]
  },
  {
   "cell_type": "code",
   "execution_count": 67,
   "metadata": {},
   "outputs": [
    {
     "data": {
      "text/plain": [
       "<Figure size 432x288 with 0 Axes>"
      ]
     },
     "metadata": {},
     "output_type": "display_data"
    }
   ],
   "source": [
    "#plt.clf()"
   ]
  },
  {
   "cell_type": "code",
   "execution_count": null,
   "metadata": {},
   "outputs": [],
   "source": []
  }
 ],
 "metadata": {
  "kernelspec": {
   "display_name": "Python 3",
   "language": "python",
   "name": "python3"
  },
  "language_info": {
   "codemirror_mode": {
    "name": "ipython",
    "version": 3
   },
   "file_extension": ".py",
   "mimetype": "text/x-python",
   "name": "python",
   "nbconvert_exporter": "python",
   "pygments_lexer": "ipython3",
   "version": "3.7.4"
  }
 },
 "nbformat": 4,
 "nbformat_minor": 2
}
